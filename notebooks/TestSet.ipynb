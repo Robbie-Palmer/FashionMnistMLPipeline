{
 "cells": [
  {
   "cell_type": "code",
   "execution_count": 1,
   "id": "a96cf204-1230-4198-88f1-ce21c7ece567",
   "metadata": {},
   "outputs": [],
   "source": [
    "from fastai.learner import load_learner\n",
    "from fashmnistmlpipeline import data_root, model_dir"
   ]
  },
  {
   "cell_type": "code",
   "execution_count": 7,
   "id": "62884721-81e3-4bc8-80ee-2f892cc972f5",
   "metadata": {},
   "outputs": [],
   "source": [
    "from fastai.vision.all import *"
   ]
  },
  {
   "cell_type": "code",
   "execution_count": 2,
   "id": "8716efeb-008d-4db8-85c1-a1e660a4e6f3",
   "metadata": {},
   "outputs": [],
   "source": [
    "test_data_dir = data_root / 'FashionMNIST/test'\n",
    "learner = load_learner(model_dir / 'learner.pkl')"
   ]
  },
  {
   "cell_type": "code",
   "execution_count": 5,
   "id": "9f29cee9-ec8b-4fea-b2f3-6c804e8c17cb",
   "metadata": {},
   "outputs": [
    {
     "data": {
      "text/plain": [
       "(#8) [<fastai.learner.AvgMetric object at 0x7f1300d0d5e0>,<fastai.metrics.AccumMetric object at 0x7f1300fc2be0>,<fastai.metrics.AccumMetric object at 0x7f1300f00070>,<fastai.metrics.AccumMetric object at 0x7f1300ed0fa0>,<fastai.metrics.AccumMetric object at 0x7f1300ea9f40>,<fastai.metrics.AccumMetric object at 0x7f1300e5b790>,<fastai.metrics.AccumMetric object at 0x7f1300ddb6a0>,<fastai.metrics.AccumMetric object at 0x7f1300d35610>]"
      ]
     },
     "execution_count": 5,
     "metadata": {},
     "output_type": "execute_result"
    }
   ],
   "source": [
    "learner.metrics"
   ]
  },
  {
   "cell_type": "code",
   "execution_count": 6,
   "id": "814eaae8-a920-4b99-82de-be47521fd91c",
   "metadata": {},
   "outputs": [
    {
     "data": {
      "text/plain": [
       "<fastai.data.core.DataLoaders at 0x7f13069c1190>"
      ]
     },
     "execution_count": 6,
     "metadata": {},
     "output_type": "execute_result"
    }
   ],
   "source": [
    "learner.dls"
   ]
  },
  {
   "cell_type": "code",
   "execution_count": 39,
   "id": "9b98ac03-78b6-40f5-a542-229d8d8fcbd7",
   "metadata": {},
   "outputs": [],
   "source": [
    "test_dl = learner.dls.test_dl(get_image_files(data_root / 'FashionMNIST/test'), with_labels=True)"
   ]
  },
  {
   "cell_type": "code",
   "execution_count": 58,
   "id": "c8431e29-c649-4157-aa85-ee543ac4758e",
   "metadata": {},
   "outputs": [
    {
     "data": {
      "image/png": "[encoded data removed]",
      "text/plain": [
       "<Figure size 648x648 with 9 Axes>"
      ]
     },
     "metadata": {
      "needs_background": "light"
     },
     "output_type": "display_data"
    }
   ],
   "source": [
    "test_dl.show_batch()"
   ]
  },
  {
   "cell_type": "code",
   "execution_count": 61,
   "id": "08506473-8362-4bf2-974f-74abebd506e6",
   "metadata": {},
   "outputs": [
    {
     "name": "stdout",
     "output_type": "stream",
     "text": [
      "3\n"
     ]
    },
    {
     "data": {
      "image/png": "[encoded data removed]",
      "text/plain": [
       "<Figure size 72x72 with 1 Axes>"
      ]
     },
     "metadata": {
      "needs_background": "light"
     },
     "output_type": "display_data"
    }
   ],
   "source": [
    "example = test_dl.dataset[1000]\n",
    "example[0].show()\n",
    "target_class_idx = example[1].item()\n",
    "print(target_class_idx)"
   ]
  },
  {
   "cell_type": "code",
   "execution_count": 62,
   "id": "4510ea2a-371c-49c2-bc91-90d5b3b6a7cd",
   "metadata": {},
   "outputs": [
    {
     "data": {
      "text/html": [],
      "text/plain": [
       "<IPython.core.display.HTML object>"
      ]
     },
     "metadata": {},
     "output_type": "display_data"
    }
   ],
   "source": [
    "probs, preds, targs = learner.get_preds(dl=test_dl, with_input=False, with_decoded=True)"
   ]
  },
  {
   "cell_type": "code",
   "execution_count": 71,
   "id": "84abcf10-7ff5-4f4d-b165-3b4c7469d4b8",
   "metadata": {},
   "outputs": [
    {
     "data": {
      "text/html": [],
      "text/plain": [
       "<IPython.core.display.HTML object>"
      ]
     },
     "metadata": {},
     "output_type": "display_data"
    }
   ],
   "source": [
    "res = learner.validate(dl=test_dl)"
   ]
  },
  {
   "cell_type": "code",
   "execution_count": 72,
   "id": "3c779f08-770e-4656-a6c7-606b11487a7e",
   "metadata": {},
   "outputs": [
    {
     "data": {
      "text/plain": [
       "(#9) [0.39489230513572693,0.8557999730110168,0.8563539678644926,0.8582169497715803,0.8558,0.9866100777777778,0.1442,0.765163852408249,0.8399322835331486]"
      ]
     },
     "execution_count": 72,
     "metadata": {},
     "output_type": "execute_result"
    }
   ],
   "source": [
    "res"
   ]
  },
  {
   "cell_type": "code",
   "execution_count": 75,
   "id": "9838c0f2-75b8-4c1e-869d-990122486eca",
   "metadata": {},
   "outputs": [
    {
     "data": {
      "text/plain": [
       "9"
      ]
     },
     "execution_count": 75,
     "metadata": {},
     "output_type": "execute_result"
    }
   ],
   "source": [
    "preds[0].item()"
   ]
  },
  {
   "cell_type": "code",
   "execution_count": 76,
   "id": "c8942fcb-07f9-4565-8275-115e9a6bb218",
   "metadata": {},
   "outputs": [
    {
     "data": {
      "text/plain": [
       "9"
      ]
     },
     "execution_count": 76,
     "metadata": {},
     "output_type": "execute_result"
    }
   ],
   "source": [
    "targs[0].item()"
   ]
  },
  {
   "cell_type": "code",
   "execution_count": null,
   "id": "f79fb5e7-74a5-46bd-9745-b3a8f4d96e3e",
   "metadata": {},
   "outputs": [],
   "source": []
  }
 ],
 "metadata": {
  "kernelspec": {
   "display_name": "Python 3",
   "language": "python",
   "name": "python3"
  },
  "language_info": {
   "codemirror_mode": {
    "name": "ipython",
    "version": 3
   },
   "file_extension": ".py",
   "mimetype": "text/x-python",
   "name": "python",
   "nbconvert_exporter": "python",
   "pygments_lexer": "ipython3",
   "version": "3.9.7"
  }
 },
 "nbformat": 4,
 "nbformat_minor": 5
}
