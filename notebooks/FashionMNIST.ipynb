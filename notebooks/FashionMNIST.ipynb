{
 "cells": [
  {
   "cell_type": "code",
   "execution_count": 1,
   "id": "eb92bc9f-6050-4160-b1f3-d75ca3fe7aac",
   "metadata": {},
   "outputs": [],
   "source": [
    "from torchvision.datasets import FashionMNIST\n",
    "from torchvision.transforms import Compose, ToTensor, Normalize"
   ]
  },
  {
   "cell_type": "code",
   "execution_count": 2,
   "id": "bc52484e-1700-463b-80d4-684d4044819e",
   "metadata": {},
   "outputs": [],
   "source": [
    "from fastai.data.load import DataLoader\n",
    "from fastai.data.core import DataLoaders, Datasets"
   ]
  },
  {
   "cell_type": "code",
   "execution_count": 6,
   "id": "5db7d7bb-6383-4928-8d7b-19e2464da697",
   "metadata": {},
   "outputs": [],
   "source": [
    "from functools import partial"
   ]
  },
  {
   "cell_type": "code",
   "execution_count": 74,
   "id": "bc7a6f87-f11d-4367-aaaa-543cbe597a36",
   "metadata": {},
   "outputs": [],
   "source": [
    "from pathlib import Path\n",
    "data_root = Path('../data')"
   ]
  },
  {
   "cell_type": "code",
   "execution_count": 59,
   "id": "cb9813d0-83fd-486c-8f5e-5002ef3b210c",
   "metadata": {},
   "outputs": [],
   "source": [
    "download_data = partial(FashionMNIST, root=data_root, download=True)\n",
    "dset_train = download_data(train=True)\n",
    "dset_test = download_data(train=False)"
   ]
  },
  {
   "cell_type": "code",
   "execution_count": 53,
   "id": "b34bb7e9-a493-4330-9208-1451a933d5c7",
   "metadata": {},
   "outputs": [
    {
     "name": "stdout",
     "output_type": "stream",
     "text": [
      "Sneaker\n"
     ]
    },
    {
     "data": {
      "image/png": "[encoded data removed]",
      "text/plain": [
       "<Figure size 72x72 with 1 Axes>"
      ]
     },
     "metadata": {
      "needs_background": "light"
     },
     "output_type": "display_data"
    }
   ],
   "source": [
    "example_idx = 512\n",
    "show_image(dset_train.data[example_idx])\n",
    "target_class_idx = dset_train.targets[example_idx].item()\n",
    "print(dset_train.classes[target_class_idx])"
   ]
  },
  {
   "cell_type": "code",
   "execution_count": 65,
   "id": "e2d45314-1872-4dcd-989d-a15f5ff328c2",
   "metadata": {},
   "outputs": [
    {
     "data": {
      "text/plain": [
       "<AxesSubplot:>"
      ]
     },
     "execution_count": 65,
     "metadata": {},
     "output_type": "execute_result"
    },
    {
     "data": {
      "image/png": "[encoded data removed]",
      "text/plain": [
       "<Figure size 72x72 with 1 Axes>"
      ]
     },
     "metadata": {
      "needs_background": "light"
     },
     "output_type": "display_data"
    }
   ],
   "source": [
    "im_bw = PILImageBW.create(tfm_train.data[example_idx])\n",
    "im_bw.show()"
   ]
  },
  {
   "cell_type": "code",
   "execution_count": 79,
   "id": "705155c1-da96-4495-bf15-eee380137172",
   "metadata": {},
   "outputs": [],
   "source": [
    "from fastai.data.block import DataBlock"
   ]
  },
  {
   "cell_type": "code",
   "execution_count": 89,
   "id": "f2fd0a48-35ff-4175-a9d8-83f43cc12734",
   "metadata": {},
   "outputs": [
    {
     "data": {
      "text/html": [
       "<h4 id=\"cnn_learner\" class=\"doc_header\"><code>cnn_learner</code><a href=\"https://github.com/fastai/fastai/tree/master/fastai/vision/learner.py#L161\" class=\"source_link\" style=\"float:right\">[source]</a></h4><blockquote><p><code>cnn_learner</code>(<strong><code>dls</code></strong>, <strong><code>arch</code></strong>, <strong><code>normalize</code></strong>=<em><code>True</code></em>, <strong><code>n_out</code></strong>=<em><code>None</code></em>, <strong><code>pretrained</code></strong>=<em><code>True</code></em>, <strong><code>config</code></strong>=<em><code>None</code></em>, <strong><code>loss_func</code></strong>=<em><code>None</code></em>, <strong><code>opt_func</code></strong>=<em><code>Adam</code></em>, <strong><code>lr</code></strong>=<em><code>0.001</code></em>, <strong><code>splitter</code></strong>=<em><code>None</code></em>, <strong><code>cbs</code></strong>=<em><code>None</code></em>, <strong><code>metrics</code></strong>=<em><code>None</code></em>, <strong><code>path</code></strong>=<em><code>None</code></em>, <strong><code>model_dir</code></strong>=<em><code>'models'</code></em>, <strong><code>wd</code></strong>=<em><code>None</code></em>, <strong><code>wd_bn_bias</code></strong>=<em><code>False</code></em>, <strong><code>train_bn</code></strong>=<em><code>True</code></em>, <strong><code>moms</code></strong>=<em><code>(0.95, 0.85, 0.95)</code></em>, <strong><code>cut</code></strong>=<em><code>None</code></em>, <strong><code>n_in</code></strong>=<em><code>3</code></em>, <strong><code>init</code></strong>=<em><code>kaiming_normal_</code></em>, <strong><code>custom_head</code></strong>=<em><code>None</code></em>, <strong><code>concat_pool</code></strong>=<em><code>True</code></em>, <strong><code>lin_ftrs</code></strong>=<em><code>None</code></em>, <strong><code>ps</code></strong>=<em><code>0.5</code></em>, <strong><code>first_bn</code></strong>=<em><code>True</code></em>, <strong><code>bn_final</code></strong>=<em><code>False</code></em>, <strong><code>lin_first</code></strong>=<em><code>False</code></em>, <strong><code>y_range</code></strong>=<em><code>None</code></em>)</p>\n",
       "</blockquote>\n",
       "<p>Build a convnet style learner from <code>dls</code> and <code>arch</code></p>\n",
       "<p><a href=\"https://docs.fast.ai/vision.learner#cnn_learner\" target=\"_blank\" rel=\"noreferrer noopener\">Show in docs</a></p>\n"
      ]
     },
     "metadata": {},
     "output_type": "display_data"
    }
   ],
   "source": [
    "doc(cnn_learner)"
   ]
  },
  {
   "cell_type": "code",
   "execution_count": 75,
   "id": "ae27b193-c304-4f70-8e1e-e8c0e11bf308",
   "metadata": {},
   "outputs": [],
   "source": [
    "block = DataBlock(blocks = (ImageBlock(cls=PILImageBW), CategoryBlock),\n",
    "                  get_items = get_image_files,\n",
    "                  splitter = RandomSplitter(0.2),\n",
    "                  get_y = parent_label)\n",
    "loaders = block.dataloaders(data_root / 'FashionMNIST/processed')"
   ]
  },
  {
   "cell_type": "code",
   "execution_count": 78,
   "id": "89a26468-05c6-42bd-8b7c-de0e5caa5c69",
   "metadata": {},
   "outputs": [
    {
     "data": {
      "image/png": "[encoded data removed]",
      "text/plain": [
       "<Figure size 864x216 with 4 Axes>"
      ]
     },
     "metadata": {
      "needs_background": "light"
     },
     "output_type": "display_data"
    }
   ],
   "source": [
    "loaders.train.show_batch(max_n=4, nrows=1)"
   ]
  },
  {
   "cell_type": "code",
   "execution_count": 94,
   "id": "0140b0fb-c4c8-4757-9e5a-175650ea9016",
   "metadata": {},
   "outputs": [],
   "source": [
    "metrics = [accuracy, F1Score(average='weighted'), Precision(average='weighted'), Recall(average='weighted'), RocAuc(), HammingLoss(), Jaccard(average='weighted'), MatthewsCorrCoef()]\n",
    "learn = cnn_learner(loaders, resnet18, metrics=metrics)"
   ]
  },
  {
   "cell_type": "code",
   "execution_count": 92,
   "id": "f572e7b5-4b0b-45cd-8ddf-7025ed05acbb",
   "metadata": {},
   "outputs": [
    {
     "data": {
      "text/html": [],
      "text/plain": [
       "<IPython.core.display.HTML object>"
      ]
     },
     "metadata": {},
     "output_type": "display_data"
    },
    {
     "data": {
      "text/plain": [
       "SuggestedLRs(valley=0.0020892962347716093)"
      ]
     },
     "execution_count": 92,
     "metadata": {},
     "output_type": "execute_result"
    },
    {
     "data": {
      "image/png": "[encoded data removed]",
      "text/plain": [
       "<Figure size 432x288 with 1 Axes>"
      ]
     },
     "metadata": {
      "needs_background": "light"
     },
     "output_type": "display_data"
    }
   ],
   "source": [
    "learn.lr_find()"
   ]
  },
  {
   "cell_type": "code",
   "execution_count": 95,
   "id": "44318fbe-8f21-4e57-88ee-f50a9b7d1141",
   "metadata": {},
   "outputs": [
    {
     "data": {
      "text/html": [
       "<table border=\"1\" class=\"dataframe\">\n",
       "  <thead>\n",
       "    <tr style=\"text-align: left;\">\n",
       "      <th>epoch</th>\n",
       "      <th>train_loss</th>\n",
       "      <th>valid_loss</th>\n",
       "      <th>accuracy</th>\n",
       "      <th>f1_score</th>\n",
       "      <th>precision_score</th>\n",
       "      <th>recall_score</th>\n",
       "      <th>roc_auc_score</th>\n",
       "      <th>hamming_loss</th>\n",
       "      <th>jaccard_score</th>\n",
       "      <th>matthews_corrcoef</th>\n",
       "      <th>time</th>\n",
       "    </tr>\n",
       "  </thead>\n",
       "  <tbody>\n",
       "  </tbody>\n",
       "</table>"
      ],
      "text/plain": [
       "<IPython.core.display.HTML object>"
      ]
     },
     "metadata": {},
     "output_type": "display_data"
    },
    {
     "data": {
      "text/html": [
       "<table border=\"1\" class=\"dataframe\">\n",
       "  <thead>\n",
       "    <tr style=\"text-align: left;\">\n",
       "      <th>epoch</th>\n",
       "      <th>train_loss</th>\n",
       "      <th>valid_loss</th>\n",
       "      <th>accuracy</th>\n",
       "      <th>f1_score</th>\n",
       "      <th>precision_score</th>\n",
       "      <th>recall_score</th>\n",
       "      <th>roc_auc_score</th>\n",
       "      <th>hamming_loss</th>\n",
       "      <th>jaccard_score</th>\n",
       "      <th>matthews_corrcoef</th>\n",
       "      <th>time</th>\n",
       "    </tr>\n",
       "  </thead>\n",
       "  <tbody>\n",
       "    <tr>\n",
       "      <td>0</td>\n",
       "      <td>0.834311</td>\n",
       "      <td>0.616917</td>\n",
       "      <td>0.777963</td>\n",
       "      <td>0.780979</td>\n",
       "      <td>0.788653</td>\n",
       "      <td>0.777963</td>\n",
       "      <td>0.971663</td>\n",
       "      <td>0.222037</td>\n",
       "      <td>0.653838</td>\n",
       "      <td>0.750847</td>\n",
       "      <td>00:16</td>\n",
       "    </tr>\n",
       "  </tbody>\n",
       "</table>"
      ],
      "text/plain": [
       "<IPython.core.display.HTML object>"
      ]
     },
     "metadata": {},
     "output_type": "display_data"
    },
    {
     "data": {
      "text/html": [
       "<table border=\"1\" class=\"dataframe\">\n",
       "  <thead>\n",
       "    <tr style=\"text-align: left;\">\n",
       "      <th>epoch</th>\n",
       "      <th>train_loss</th>\n",
       "      <th>valid_loss</th>\n",
       "      <th>accuracy</th>\n",
       "      <th>f1_score</th>\n",
       "      <th>precision_score</th>\n",
       "      <th>recall_score</th>\n",
       "      <th>roc_auc_score</th>\n",
       "      <th>hamming_loss</th>\n",
       "      <th>jaccard_score</th>\n",
       "      <th>matthews_corrcoef</th>\n",
       "      <th>time</th>\n",
       "    </tr>\n",
       "  </thead>\n",
       "  <tbody>\n",
       "  </tbody>\n",
       "</table>"
      ],
      "text/plain": [
       "<IPython.core.display.HTML object>"
      ]
     },
     "metadata": {},
     "output_type": "display_data"
    },
    {
     "data": {
      "text/html": [
       "<table border=\"1\" class=\"dataframe\">\n",
       "  <thead>\n",
       "    <tr style=\"text-align: left;\">\n",
       "      <th>epoch</th>\n",
       "      <th>train_loss</th>\n",
       "      <th>valid_loss</th>\n",
       "      <th>accuracy</th>\n",
       "      <th>f1_score</th>\n",
       "      <th>precision_score</th>\n",
       "      <th>recall_score</th>\n",
       "      <th>roc_auc_score</th>\n",
       "      <th>hamming_loss</th>\n",
       "      <th>jaccard_score</th>\n",
       "      <th>matthews_corrcoef</th>\n",
       "      <th>time</th>\n",
       "    </tr>\n",
       "  </thead>\n",
       "  <tbody>\n",
       "    <tr>\n",
       "      <td>0</td>\n",
       "      <td>0.349505</td>\n",
       "      <td>0.296085</td>\n",
       "      <td>0.891574</td>\n",
       "      <td>0.892261</td>\n",
       "      <td>0.897329</td>\n",
       "      <td>0.891574</td>\n",
       "      <td>0.992458</td>\n",
       "      <td>0.108426</td>\n",
       "      <td>0.814406</td>\n",
       "      <td>0.878542</td>\n",
       "      <td>00:26</td>\n",
       "    </tr>\n",
       "    <tr>\n",
       "      <td>1</td>\n",
       "      <td>0.246953</td>\n",
       "      <td>0.224300</td>\n",
       "      <td>0.916574</td>\n",
       "      <td>0.916853</td>\n",
       "      <td>0.917256</td>\n",
       "      <td>0.916574</td>\n",
       "      <td>0.994681</td>\n",
       "      <td>0.083426</td>\n",
       "      <td>0.853665</td>\n",
       "      <td>0.906150</td>\n",
       "      <td>00:26</td>\n",
       "    </tr>\n",
       "  </tbody>\n",
       "</table>"
      ],
      "text/plain": [
       "<IPython.core.display.HTML object>"
      ]
     },
     "metadata": {},
     "output_type": "display_data"
    }
   ],
   "source": [
    "learn.fine_tune(2, base_lr=2e-3, cbs=[ProgressCallback()])"
   ]
  },
  {
   "cell_type": "code",
   "execution_count": 97,
   "id": "0e5ccc5b-f2ef-4c78-b13d-992121ff0887",
   "metadata": {},
   "outputs": [
    {
     "data": {
      "text/html": [],
      "text/plain": [
       "<IPython.core.display.HTML object>"
      ]
     },
     "metadata": {},
     "output_type": "display_data"
    },
    {
     "data": {
      "image/png": "[encoded data removed]",
      "text/plain": [
       "<Figure size 432x288 with 1 Axes>"
      ]
     },
     "metadata": {
      "needs_background": "light"
     },
     "output_type": "display_data"
    }
   ],
   "source": [
    "interp = ClassificationInterpretation.from_learner(learn)\n",
    "interp.plot_confusion_matrix()"
   ]
  },
  {
   "cell_type": "code",
   "execution_count": 130,
   "id": "073d367b-e5c8-4166-a67e-d8c8e4101ae6",
   "metadata": {},
   "outputs": [
    {
     "data": {
      "text/html": [
       "<h2 id=\"ClassificationInterpretation\" class=\"doc_header\"><code>class</code> <code>ClassificationInterpretation</code><a href=\"https://github.com/fastai/fastai/tree/master/fastai/interpret.py#L51\" class=\"source_link\" style=\"float:right\">[source]</a></h2><blockquote><p><code>ClassificationInterpretation</code>(<strong><code>dl</code></strong>, <strong><code>inputs</code></strong>, <strong><code>preds</code></strong>, <strong><code>targs</code></strong>, <strong><code>decoded</code></strong>, <strong><code>losses</code></strong>) :: <code>Interpretation</code></p>\n",
       "</blockquote>\n",
       "<p>Interpretation methods for classification models.</p>\n",
       "<p><a href=\"https://docs.fast.ai/interpret#ClassificationInterpretation\" target=\"_blank\" rel=\"noreferrer noopener\">Show in docs</a></p>\n"
      ]
     },
     "metadata": {},
     "output_type": "display_data"
    }
   ],
   "source": [
    "doc(ClassificationInterpretation)"
   ]
  },
  {
   "cell_type": "code",
   "execution_count": 105,
   "id": "673b7e67-9071-4d24-b829-50b197d4d469",
   "metadata": {},
   "outputs": [
    {
     "data": {
      "text/plain": [
       "torch.return_types.topk(\n",
       "values=TensorBase([9.4250, 9.3575, 8.5711, 8.4914, 8.1065, 7.7431, 7.2228, 6.9542, 6.9464,\n",
       "        6.8071]),\n",
       "indices=TensorBase([9127, 8315, 5401, 9655, 8792, 9527, 6213, 9106, 1542, 8580]))"
      ]
     },
     "execution_count": 105,
     "metadata": {},
     "output_type": "execute_result"
    }
   ],
   "source": [
    "interp.top_losses(10)"
   ]
  },
  {
   "cell_type": "code",
   "execution_count": 107,
   "id": "b9fdc6f9-f1b7-4ed9-a77a-af90e308311c",
   "metadata": {},
   "outputs": [
    {
     "data": {
      "text/plain": [
       "[('Shirt', 'T-shirt_top', 136),\n",
       " ('Coat', 'Shirt', 122),\n",
       " ('T-shirt_top', 'Shirt', 110)]"
      ]
     },
     "execution_count": 107,
     "metadata": {},
     "output_type": "execute_result"
    }
   ],
   "source": [
    "interp.most_confused(min_val=100)"
   ]
  },
  {
   "cell_type": "code",
   "execution_count": 103,
   "id": "e2028830-908b-44e6-9b22-9e8731f6c9dc",
   "metadata": {},
   "outputs": [
    {
     "data": {
      "text/html": [],
      "text/plain": [
       "<IPython.core.display.HTML object>"
      ]
     },
     "metadata": {},
     "output_type": "display_data"
    },
    {
     "data": {
      "image/png": "[encoded data removed]",
      "text/plain": [
       "<Figure size 648x648 with 9 Axes>"
      ]
     },
     "metadata": {
      "needs_background": "light"
     },
     "output_type": "display_data"
    }
   ],
   "source": [
    "learn.show_results()"
   ]
  },
  {
   "cell_type": "code",
   "execution_count": 108,
   "id": "a6ee0aeb-18d6-4daf-8467-cd826a59e6cf",
   "metadata": {},
   "outputs": [
    {
     "data": {
      "text/html": [],
      "text/plain": [
       "<IPython.core.display.HTML object>"
      ]
     },
     "metadata": {},
     "output_type": "display_data"
    }
   ],
   "source": [
    "result = learn.validate()"
   ]
  },
  {
   "cell_type": "code",
   "execution_count": 127,
   "id": "63edede2-76dd-480c-96a6-4e1ee3a15dc1",
   "metadata": {},
   "outputs": [
    {
     "data": {
      "text/plain": [
       "['accuracy',\n",
       " 'f1_score',\n",
       " 'precision_score',\n",
       " 'recall_score',\n",
       " 'roc_auc_score',\n",
       " 'hamming_loss',\n",
       " 'jaccard_score',\n",
       " 'matthews_corrcoef']"
      ]
     },
     "execution_count": 127,
     "metadata": {},
     "output_type": "execute_result"
    }
   ],
   "source": [
    "[metric.name for metric in learn.metrics]"
   ]
  },
  {
   "cell_type": "code",
   "execution_count": 128,
   "id": "2b6e5967-c16c-409c-ae10-436ff34a176f",
   "metadata": {},
   "outputs": [
    {
     "data": {
      "text/plain": [
       "TensorCategory([2, 5, 3,  ..., 2, 0, 0])"
      ]
     },
     "execution_count": 128,
     "metadata": {},
     "output_type": "execute_result"
    }
   ],
   "source": [
    "interp.targs"
   ]
  },
  {
   "cell_type": "code",
   "execution_count": 129,
   "id": "0be0a7a7-7755-4f4f-a0dd-ba72042ef9b6",
   "metadata": {},
   "outputs": [
    {
     "data": {
      "text/plain": [
       "tensor([2, 5, 3,  ..., 2, 0, 0])"
      ]
     },
     "execution_count": 129,
     "metadata": {},
     "output_type": "execute_result"
    }
   ],
   "source": [
    "interp.decoded"
   ]
  },
  {
   "cell_type": "code",
   "execution_count": null,
   "id": "c337f903-2070-45a2-9069-959accf36df8",
   "metadata": {},
   "outputs": [],
   "source": []
  }
 ],
 "metadata": {
  "kernelspec": {
   "display_name": "Python 3",
   "language": "python",
   "name": "python3"
  },
  "language_info": {
   "codemirror_mode": {
    "name": "ipython",
    "version": 3
   },
   "file_extension": ".py",
   "mimetype": "text/x-python",
   "name": "python",
   "nbconvert_exporter": "python",
   "pygments_lexer": "ipython3",
   "version": "3.9.7"
  }
 },
 "nbformat": 4,
 "nbformat_minor": 5
}
